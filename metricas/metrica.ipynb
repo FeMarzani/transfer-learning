{
 "cells": [
  {
   "cell_type": "code",
   "execution_count": 2,
   "metadata": {},
   "outputs": [],
   "source": [
    "import numpy as np\n",
    "import pandas as pd\n",
    "import seaborn as sns\n",
    "import matplotlib.pyplot as plt"
   ]
  },
  {
   "cell_type": "markdown",
   "metadata": {},
   "source": [
    "### Definindo Função para Cálculo de Métricas"
   ]
  },
  {
   "cell_type": "code",
   "execution_count": 3,
   "metadata": {},
   "outputs": [],
   "source": [
    "def calcular_metricas(VP, VN, FP, FN):\n",
    "    # Sensibilidade (Recall)\n",
    "    sensibilidade = VP / (VP + FN) if (VP + FN) != 0 else 0\n",
    "\n",
    "    # Especificidade\n",
    "    especificidade = VN / (FP + VN) if (FP + VN) != 0 else 0\n",
    "\n",
    "    # Acurácia\n",
    "    N = VP + VN + FP + FN\n",
    "    acuracia = (VP + VN) / N if N != 0 else 0\n",
    "\n",
    "    # Precisão\n",
    "    precisao = VP / (VP + FP) if (VP + FP) != 0 else 0\n",
    "\n",
    "    # F-Score\n",
    "    f_score = (2 * precisao * sensibilidade) / (precisao + sensibilidade) if (precisao + sensibilidade) != 0 else 0\n",
    "\n",
    "    return {\n",
    "        \"Sensibilidade (Recall)\": sensibilidade,\n",
    "        \"Especificidade\": especificidade,\n",
    "        \"Acurácia\": acuracia,\n",
    "        \"Precisão\": precisao,\n",
    "        \"F-Score\": f_score\n",
    "    }"
   ]
  },
  {
   "cell_type": "code",
   "execution_count": 4,
   "metadata": {},
   "outputs": [],
   "source": [
    "matriz_confusao = np.array([\n",
    "    [50, 5],  # [VP, FN]\n",
    "    [10, 40]  # [FP, VN]\n",
    "])"
   ]
  },
  {
   "cell_type": "code",
   "execution_count": 5,
   "metadata": {},
   "outputs": [],
   "source": [
    "VP = matriz_confusao[0, 0]\n",
    "FN = matriz_confusao[0, 1]\n",
    "FP = matriz_confusao[1, 0]\n",
    "VN = matriz_confusao[1, 1]\n"
   ]
  },
  {
   "cell_type": "markdown",
   "metadata": {},
   "source": [
    "### Calculando e Exibindo dados fictícios"
   ]
  },
  {
   "cell_type": "code",
   "execution_count": 6,
   "metadata": {},
   "outputs": [
    {
     "name": "stdout",
     "output_type": "stream",
     "text": [
      "Matriz de Confusão:\n"
     ]
    },
    {
     "data": {
      "text/html": [
       "<div>\n",
       "<style scoped>\n",
       "    .dataframe tbody tr th:only-of-type {\n",
       "        vertical-align: middle;\n",
       "    }\n",
       "\n",
       "    .dataframe tbody tr th {\n",
       "        vertical-align: top;\n",
       "    }\n",
       "\n",
       "    .dataframe thead th {\n",
       "        text-align: right;\n",
       "    }\n",
       "</style>\n",
       "<table border=\"1\" class=\"dataframe\">\n",
       "  <thead>\n",
       "    <tr style=\"text-align: right;\">\n",
       "      <th></th>\n",
       "      <th>Predito Positivo</th>\n",
       "      <th>Predito Negativo</th>\n",
       "    </tr>\n",
       "  </thead>\n",
       "  <tbody>\n",
       "    <tr>\n",
       "      <th>Real Positivo</th>\n",
       "      <td>50</td>\n",
       "      <td>5</td>\n",
       "    </tr>\n",
       "    <tr>\n",
       "      <th>Real Negativo</th>\n",
       "      <td>10</td>\n",
       "      <td>40</td>\n",
       "    </tr>\n",
       "  </tbody>\n",
       "</table>\n",
       "</div>"
      ],
      "text/plain": [
       "               Predito Positivo  Predito Negativo\n",
       "Real Positivo                50                 5\n",
       "Real Negativo                10                40"
      ]
     },
     "metadata": {},
     "output_type": "display_data"
    },
    {
     "name": "stdout",
     "output_type": "stream",
     "text": [
      "\n",
      "Métricas de Avaliação:\n",
      "Sensibilidade (Recall): 0.91\n",
      "Especificidade: 0.80\n",
      "Acurácia: 0.86\n",
      "Precisão: 0.83\n",
      "F-Score: 0.87\n"
     ]
    }
   ],
   "source": [
    "# Calcular as métricas\n",
    "metricas = calcular_metricas(VP, VN, FP, FN)\n",
    "\n",
    "# Exibir a matriz de confusão como tabela\n",
    "df_matriz = pd.DataFrame(matriz_confusao, \n",
    "                         index=[\"Real Positivo\", \"Real Negativo\"], \n",
    "                         columns=[\"Predito Positivo\", \"Predito Negativo\"])\n",
    "print(\"Matriz de Confusão:\")\n",
    "display(df_matriz)\n",
    "\n",
    "# Exibir as métricas calculadas\n",
    "print(\"\\nMétricas de Avaliação:\")\n",
    "for metrica, valor in metricas.items():\n",
    "    print(f\"{metrica}: {valor:.2f}\")"
   ]
  },
  {
   "cell_type": "code",
   "execution_count": 7,
   "metadata": {},
   "outputs": [
    {
     "data": {
      "image/png": "[encoded data removed]",
      "text/plain": [
       "<Figure size 800x600 with 2 Axes>"
      ]
     },
     "metadata": {},
     "output_type": "display_data"
    }
   ],
   "source": [
    "# Visualizar a matriz de confusão como gráfico\n",
    "plt.figure(figsize=(8, 6))\n",
    "sns.heatmap(df_matriz, annot=True, fmt=\"d\", cmap=\"Blues\")\n",
    "plt.title(\"Matriz de Confusão\")\n",
    "plt.xlabel(\"Valores Preditos\")\n",
    "plt.ylabel(\"Valores Reais\")\n",
    "plt.show()"
   ]
  }
 ],
 "metadata": {
  "kernelspec": {
   "display_name": "Python 3",
   "language": "python",
   "name": "python3"
  },
  "language_info": {
   "codemirror_mode": {
    "name": "ipython",
    "version": 3
   },
   "file_extension": ".py",
   "mimetype": "text/x-python",
   "name": "python",
   "nbconvert_exporter": "python",
   "pygments_lexer": "ipython3",
   "version": "3.12.3"
  }
 },
 "nbformat": 4,
 "nbformat_minor": 2
}
